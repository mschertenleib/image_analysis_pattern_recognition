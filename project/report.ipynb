{
 "cells": [
  {
   "cell_type": "markdown",
   "id": "5f23e1c5",
   "metadata": {},
   "source": [
    "# [IAPR][iapr]: Final project - Chocolate Recognition\n",
    "\n",
    "\n",
    "**Moodle group ID:** *42*  \n",
    "**Kaggle challenge:** *xx* (either `Classic` or `Deep learning`)  \n",
    "**Kaggle team name (exact):** \"*xx*\"  \n",
    "\n",
    "**Author 1 (SCIPER):** *Mathieu Schertenleib (313318)*  \n",
    "**Author 2 (SCIPER):** *Alice D'Agostino (403990)*  \n",
    "**Author 3 (SCIPER):** *Jarl Stephansson (402775)*  \n",
    "\n",
    "**Due date:** 21.05.2025 (11:59 pm)\n",
    "\n",
    "\n",
    "## Key Submission Guidelines:\n",
    "- **Before submitting your notebook, <span style=\"color:red;\">rerun</span> it from scratch!** Go to: `Kernel` > `Restart & Run All`\n",
    "- **Only groups of three will be accepted**, except in exceptional circumstances.\n",
    "\n",
    "\n",
    "[iapr]: https://github.com/LTS5/iapr2025\n",
    "\n",
    "---"
   ]
  },
  {
   "cell_type": "markdown",
   "id": "2162aed6",
   "metadata": {},
   "source": [
    "> Your comments  \n",
    "> ..."
   ]
  },
  {
   "cell_type": "markdown",
   "id": "96feee21",
   "metadata": {},
   "source": [
    "things to say:\n",
    "- adding gaussian noise destroys the model's ability to discriminate between Comtesse and Jelly White\n",
    "```python\n",
    "v2.GaussianNoise(mean=0, sigma=0.05)\n",
    "```"
   ]
  },
  {
   "cell_type": "code",
   "execution_count": null,
   "id": "b616e563",
   "metadata": {},
   "outputs": [],
   "source": [
    "## YOUR CODE\n",
    "..."
   ]
  },
  {
   "cell_type": "markdown",
   "id": "c77b1807",
   "metadata": {},
   "source": [
    "## References\n",
    "\n",
    "- https://www.robots.ox.ac.uk/~vgg/software/via/\n",
    "- https://www.sciencedirect.com/science/article/pii/S0031320324010276\n",
    "- https://arxiv.org/html/2405.11770v1"
   ]
  },
  {
   "cell_type": "markdown",
   "id": "142cd541",
   "metadata": {},
   "source": []
  }
 ],
 "metadata": {
  "language_info": {
   "name": "python"
  }
 },
 "nbformat": 4,
 "nbformat_minor": 5
}
